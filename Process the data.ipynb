{
 "cells": [
  {
   "cell_type": "code",
   "execution_count": 1,
   "metadata": {},
   "outputs": [],
   "source": [
    "from stanfordcorenlp import StanfordCoreNLP\n",
    "import json\n",
    "from copy import deepcopy"
   ]
  },
  {
   "cell_type": "code",
   "execution_count": null,
   "metadata": {},
   "outputs": [],
   "source": [
    "3760ff00e13513340363ec2e65cc9a925433d704"
   ]
  },
  {
   "cell_type": "code",
   "execution_count": 2,
   "metadata": {},
   "outputs": [],
   "source": [
    "nlp = StanfordCoreNLP(r'stanford-corenlp-4.0.0') "
   ]
  },
  {
   "cell_type": "code",
   "execution_count": 3,
   "metadata": {},
   "outputs": [
    {
     "name": "stdout",
     "output_type": "stream",
     "text": [
      "Part of Speech: [('I', 'PRP'), ('like', 'VBP'), ('him', 'PRP'), ('.', '.')]\n"
     ]
    }
   ],
   "source": [
    "sentence = 'I like him.'\n",
    "print('Part of Speech:', nlp.pos_tag(sentence))"
   ]
  },
  {
   "cell_type": "code",
   "execution_count": 3,
   "metadata": {},
   "outputs": [],
   "source": [
    "input_file = 'quoref-train-v0.1.json'"
   ]
  },
  {
   "cell_type": "code",
   "execution_count": 4,
   "metadata": {},
   "outputs": [],
   "source": [
    "with open(input_file, \"r\", encoding='utf-8') as reader:\n",
    "        input_data = json.load(reader)[\"data\"]"
   ]
  },
  {
   "cell_type": "code",
   "execution_count": 5,
   "metadata": {},
   "outputs": [],
   "source": [
    "def is_whitespace(c):\n",
    "    if c == \" \" or c == \"\\t\" or c == \"\\r\" or c == \"\\n\" or ord(c) == 0x202F:\n",
    "        return True\n",
    "    return False"
   ]
  },
  {
   "cell_type": "code",
   "execution_count": 6,
   "metadata": {},
   "outputs": [],
   "source": [
    "def remove_pro(paragraph_text):\n",
    "    doc_tokens = []\n",
    "    prev_is_whitespace = True\n",
    "    for c in paragraph_text:\n",
    "        if is_whitespace(c):\n",
    "            prev_is_whitespace = True\n",
    "        else:\n",
    "            if prev_is_whitespace:\n",
    "                doc_tokens.append(c)\n",
    "            else:\n",
    "                doc_tokens[-1] += c\n",
    "            prev_is_whitespace = False\n",
    "    new_text=''\n",
    "    for index,token in enumerate(doc_tokens):\n",
    "        pos = nlp.pos_tag(token)\n",
    "        origin_length = len(token)\n",
    "        remove_pro = ''\n",
    "        for item in pos:\n",
    "            if item[1].find('PRP')==-1:\n",
    "                remove_pro+=item[0]\n",
    "        new_text += remove_pro+' '\n",
    "    return new_text"
   ]
  },
  {
   "cell_type": "code",
   "execution_count": 12,
   "metadata": {},
   "outputs": [],
   "source": [
    "new_data = deepcopy(input_data)"
   ]
  },
  {
   "cell_type": "code",
   "execution_count": 13,
   "metadata": {},
   "outputs": [],
   "source": [
    "for entry in new_data:\n",
    "    for paragraph in entry['paragraphs']:\n",
    "        paragraph_text = paragraph[\"context\"]\n",
    "        #print(paragraph[\"context\"])\n",
    "        for qa in paragraph[\"qas\"]:\n",
    "            answer = qa[\"answers\"][0]\n",
    "            answer_offset = answer[\"answer_start\"]\n",
    "            orig_answer_text = answer[\"text\"]\n",
    "            new_answer_text = remove_pro(orig_answer_text)\n",
    "            answer[\"text\"] = new_answer_text[:-1]\n",
    "            #print(paragraph_text[answer_offset:answer_offset+40])\n",
    "            pre_text = paragraph_text[:answer_offset]\n",
    "            new_text = remove_pro(pre_text)\n",
    "            #print(len(new_text))\n",
    "            answer[\"answer_start\"] = len(new_text)\n",
    "        new_text = remove_pro(paragraph_text)\n",
    "        paragraph[\"context\"]=new_text[:-1]"
   ]
  },
  {
   "cell_type": "code",
   "execution_count": 110,
   "metadata": {},
   "outputs": [
    {
     "name": "stdout",
     "output_type": "stream",
     "text": [
      "377\n",
      "cook 4\n",
      "cook\n",
      "358\n",
      "Olga 4\n",
      "Olga\n",
      "231\n",
      "playwright 10\n",
      "playwright\n",
      "811\n",
      "engagement with another man 27\n",
      "engagement with another man\n",
      "1287\n",
      "the producer of a successful musical show 41\n",
      "the producer of a successful musical show\n"
     ]
    }
   ],
   "source": [
    "for entry in new_data:\n",
    "    for paragraph in entry['paragraphs']:\n",
    "        paragraph_text = paragraph[\"context\"]\n",
    "        if paragraph['context_id'] !='3760ff00e13513340363ec2e65cc9a925433d704':\n",
    "            continue\n",
    "        doc_tokens = []\n",
    "        char_to_word_offset = []\n",
    "        prev_is_whitespace = True\n",
    "        for c in paragraph_text:\n",
    "            if is_whitespace(c):\n",
    "                prev_is_whitespace = True\n",
    "            else:\n",
    "                if prev_is_whitespace:\n",
    "                    doc_tokens.append(c)\n",
    "                else:\n",
    "                    doc_tokens[-1] += c\n",
    "                prev_is_whitespace = False\n",
    "            char_to_word_offset.append(len(doc_tokens) - 1)\n",
    "        #reduction, new_text = remove_pro(doc_tokens)\n",
    "        #paragraph[\"context\"] = new_text\n",
    "        #print(paragraph_text)\n",
    "        for qa in paragraph[\"qas\"]:\n",
    "            qas_id = qa[\"id\"]\n",
    "            question_text = qa[\"question\"]\n",
    "            start_position = None\n",
    "            end_position = None\n",
    "            orig_answer_text = None\n",
    "            is_impossible = False\n",
    "            if not is_impossible:\n",
    "                answer = qa[\"answers\"][0]\n",
    "                orig_answer_text = answer[\"text\"]\n",
    "                answer_offset = answer[\"answer_start\"]\n",
    "                answer_length = len(orig_answer_text)\n",
    "                print(answer_offset)\n",
    "                start_position = char_to_word_offset[answer_offset]\n",
    "                print(orig_answer_text,answer_length)\n",
    "                end_position = char_to_word_offset[answer_offset + answer_length - 1]\n",
    "                print(paragraph_text[answer_offset:answer_offset+answer_length])"
   ]
  },
  {
   "cell_type": "code",
   "execution_count": 14,
   "metadata": {},
   "outputs": [],
   "source": [
    "all_data={}\n",
    "all_data['data']=new_data"
   ]
  },
  {
   "cell_type": "code",
   "execution_count": 15,
   "metadata": {},
   "outputs": [],
   "source": [
    "input_file = 'quoref-train-v0.2.json'"
   ]
  },
  {
   "cell_type": "code",
   "execution_count": 16,
   "metadata": {},
   "outputs": [],
   "source": [
    "with open(input_file, \"w\", encoding='utf-8') as reader:\n",
    "        json.dump(all_data,reader,indent=2)"
   ]
  }
 ],
 "metadata": {
  "kernelspec": {
   "display_name": "Python 3",
   "language": "python",
   "name": "python3"
  },
  "language_info": {
   "codemirror_mode": {
    "name": "ipython",
    "version": 3
   },
   "file_extension": ".py",
   "mimetype": "text/x-python",
   "name": "python",
   "nbconvert_exporter": "python",
   "pygments_lexer": "ipython3",
   "version": "3.7.4"
  }
 },
 "nbformat": 4,
 "nbformat_minor": 2
}
